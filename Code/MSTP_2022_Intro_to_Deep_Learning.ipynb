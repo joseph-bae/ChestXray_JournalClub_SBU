{
  "nbformat": 4,
  "nbformat_minor": 0,
  "metadata": {
    "colab": {
      "name": "MSTP 2022: Intro to Deep Learning",
      "provenance": [],
      "collapsed_sections": []
    },
    "kernelspec": {
      "name": "python3",
      "display_name": "Python 3"
    },
    "language_info": {
      "name": "python"
    },
    "accelerator": "GPU"
  },
  "cells": [
    {
      "cell_type": "markdown",
      "source": [
        "### **INTRO**\n",
        "*Important! Go to Runtime -> Change runtime type -> Hardware accelerator ->GPU*\n",
        "\n",
        "Welcome to this tutorial on Deep Learning. You can click play in order next to each cell to get the code in that cell to run. In green next to most lines of code are comments explaining how things work. Feel free to email me with questions at \n",
        "joseph.bae@stonybrookmedicine.edu!!!\n",
        "\n",
        "\n",
        "***Datasets:***\n",
        "\n",
        "Chest X-ray 14: https://nihcc.app.box.com/v/ChestXray-NIHCC/folder/36938765345\n",
        "\n",
        "Stony Brook TCIA:https://wiki.cancerimagingarchive.net/pages/viewpage.action?pageId=89096912\n",
        "\n",
        "Code and files at: https://github.com/joseph-bae/ChestXray_JournalClub_SBU/blob/main/README.md"
      ],
      "metadata": {
        "id": "RcYUQV_f-XE-"
      }
    },
    {
      "cell_type": "markdown",
      "source": [
        "### **Data Download and Folder Setup**"
      ],
      "metadata": {
        "id": "hXuIo9C05b8z"
      }
    },
    {
      "cell_type": "code",
      "source": [
        "!mkdir Temp_JC #Create a temporary folder for us to put our data in.\n",
        "%cd /content/Temp_JC\n",
        "#Move our \"working directory\" (folder) to that new temporary folder\""
      ],
      "metadata": {
        "id": "jG5k85ih2tND"
      },
      "execution_count": null,
      "outputs": []
    },
    {
      "cell_type": "code",
      "execution_count": null,
      "metadata": {
        "id": "V4NT-j5WEL81"
      },
      "outputs": [],
      "source": [
        "!git clone https://github.com/joseph-bae/ChestXray_JournalClub_SBU #Download the X-rays and some code\n",
        "#feel free to go through the code, but it's a bit beyond the scope of this tutorial (and mostly unimportant!)"
      ]
    },
    {
      "cell_type": "code",
      "source": [
        "%cd ChestXray_JournalClub_SBU\n",
        "%cd Code\n",
        "#let's change our working directory to be inside this folder with our images and code"
      ],
      "metadata": {
        "id": "rKkKrfmW9Hly"
      },
      "execution_count": null,
      "outputs": []
    },
    {
      "cell_type": "markdown",
      "source": [
        "### **Importing important libraries**\n",
        "These are basically pieces of code that other people have previously written."
      ],
      "metadata": {
        "id": "Xijxkd8z51OJ"
      }
    },
    {
      "cell_type": "code",
      "source": [
        "import PIL #Image display and processing library\n",
        "\n",
        "import torch #Our deep learning library\n",
        "\n",
        "import numpy as np #A library with common math operations and linear algebra tools\n",
        "\n",
        "import pandas as pd #Very commonly used data science library\n",
        "\n",
        "import os #Library for working with folders and files on a computer\n",
        "\n",
        "import matplotlib.pyplot as plt #Library for image and figure visualization\n",
        "\n",
        "### The below are libraries I wrote to abstract away some of the trivial\n",
        "### but complicated code for this demo. Feel free to take a look, but it's\n",
        "### not important for understanding what we're doing.\n",
        "from utils import * \n",
        "from model import *"
      ],
      "metadata": {
        "id": "RPoUcDYN4xjC"
      },
      "execution_count": null,
      "outputs": []
    },
    {
      "cell_type": "markdown",
      "source": [
        "### **Data Visualization**\n",
        "Understanding the code here is not as critical. The point is just to show that we can and should look at our data first. None of this actually constitutes experimentation, but it's crucial that you understand your data prior to throwing everything but the kitchen sink at it."
      ],
      "metadata": {
        "id": "92XVHWO-HVzu"
      }
    },
    {
      "cell_type": "code",
      "source": [
        "Key=pd.read_csv(\"/content/Temp_JC/ChestXray_JournalClub_SBU/Key.csv\") #Read in our csv file with outcomes\n",
        "Key #show our stored outcome table"
      ],
      "metadata": {
        "id": "Jvn79zeE6W1G"
      },
      "execution_count": null,
      "outputs": []
    },
    {
      "cell_type": "code",
      "source": [
        "All_Image_Names=os.listdir(\"/content/Temp_JC/ChestXray_JournalClub_SBU/TrainingCXRs\") #Read in the names of all of the images we've downloaded\n",
        "print(All_Image_Names[0:5]) #print the first 5 image filenames"
      ],
      "metadata": {
        "id": "GpLHz1fe-Ooi"
      },
      "execution_count": null,
      "outputs": []
    },
    {
      "cell_type": "code",
      "source": [
        "ShowImages(All_Image_Names)"
      ],
      "metadata": {
        "id": "AmHrjLLO-sAO"
      },
      "execution_count": null,
      "outputs": []
    },
    {
      "cell_type": "markdown",
      "source": [
        "### **Deep Learning**"
      ],
      "metadata": {
        "id": "yk0AxRFC9zR3"
      }
    },
    {
      "cell_type": "code",
      "source": [
        "###CHANGE THIS CELL FOR EXPERIMENTATION!\n",
        "epochs=10 #Suggested value: below 30\n",
        "learning_rate=.03 #Suggested value: between 0.001 and 0.1\n",
        "model_size = 'small' #Choose between 'small' or 'medium'\n",
        "dropout=0.5 #Suggested value: between 0 and 0.5\n",
        "\n"
      ],
      "metadata": {
        "id": "OlUaqXDJDMoG"
      },
      "execution_count": null,
      "outputs": []
    },
    {
      "cell_type": "code",
      "source": [
        "### TRAINING\n",
        "outcome_sheet_path=\"/content/Temp_JC/ChestXray_JournalClub_SBU/Key.csv\" #path to outcomes\n",
        "training_image_folder=\"/content/Temp_JC/ChestXray_JournalClub_SBU/TrainingCXRs\" #folder with training images\n",
        "valid_image_folder='/content/Temp_JC/ChestXray_JournalClub_SBU/ValidCXRs' #folder to valid images\n",
        "\n",
        "\n",
        "train_loader=MakeDataLoader(training_image_folder,outcome_sheet_path) #make our training dataloader\n",
        "valid_loader=MakeDataLoader(valid_image_folder, outcome_sheet_path) #make our valid dataloader\n",
        "\n",
        "AI_model=CXR_Model(train_loader=train_loader,valid_loader=valid_loader, #build our AI model\n",
        "                   learning_rate=learning_rate,dropout=dropout,model_type=model_size)\n",
        "\n",
        "AI_model.train(epochs=epochs) # start the training with specified number of epochs\n",
        "\n"
      ],
      "metadata": {
        "id": "DwS4FdCk_zre"
      },
      "execution_count": null,
      "outputs": []
    },
    {
      "cell_type": "code",
      "source": [
        "###TESTING ChestXray14 Data\n",
        "\n",
        "test_image_folder=\"/content/Temp_JC/ChestXray_JournalClub_SBU/TestingCXRs\" #Where our COVID data is\n",
        "\n",
        "#Make our test dataloader\n",
        "Test_dataloader=MakeDataLoader(test_image_folder,outcome_sheet_path)\n",
        "AI_model.test_loader=Test_dataloader #Set our test dataloader to our COVID loader\n",
        "AI_model.test() #test"
      ],
      "metadata": {
        "id": "FX-l-7PRTq13"
      },
      "execution_count": null,
      "outputs": []
    },
    {
      "cell_type": "code",
      "source": [
        "###TESTING COVID Data\n",
        "\n",
        "COVID_image_folder=\"/content/Temp_JC/ChestXray_JournalClub_SBU/TestCXRs_COVID\" #Where our COVID data is\n",
        "\n",
        "#Make our test dataloader\n",
        "COVID_dataloader=MakeDataLoader(COVID_image_folder,dataloadertype='covid')\n",
        "AI_model.test_loader=COVID_dataloader #Set our test dataloader to our COVID loader\n",
        "AI_model.test() #test"
      ],
      "metadata": {
        "id": "6zyY-1ze8R1p"
      },
      "execution_count": null,
      "outputs": []
    }
  ]
}